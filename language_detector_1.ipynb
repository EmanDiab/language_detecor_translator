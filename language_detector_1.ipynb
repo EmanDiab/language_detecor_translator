{
  "cells": [
    {
      "cell_type": "code",
      "execution_count": null,
      "metadata": {
        "colab": {
          "base_uri": "https://localhost:8080/"
        },
        "id": "Sfj0_loWTa4v",
        "outputId": "c1596d50-396d-4ec9-a200-dffe58880433"
      },
      "outputs": [
        {
          "output_type": "stream",
          "name": "stdout",
          "text": [
            "Mounted at /drive\n"
          ]
        }
      ],
      "source": [
        "from google.colab import drive\n",
        "drive.mount('/drive')"
      ]
    },
    {
      "cell_type": "code",
      "execution_count": null,
      "metadata": {
        "id": "KK4tx-NZUN3j"
      },
      "outputs": [],
      "source": [
        "import pandas as pd \n",
        "import numpy as np\n",
        "\n",
        "data = pd.read_csv('/drive/My Drive/Job Tasks/kemet/Language_det_train.csv')\n"
      ]
    },
    {
      "cell_type": "markdown",
      "source": [
        "# Exploring the data balance"
      ],
      "metadata": {
        "id": "wfI3ylKKcsJC"
      }
    },
    {
      "cell_type": "code",
      "source": [
        "data.groupby(\"Language\").count()"
      ],
      "metadata": {
        "colab": {
          "base_uri": "https://localhost:8080/",
          "height": 614
        },
        "id": "p0E7zITPbC98",
        "outputId": "a5a8b07f-74ac-4712-988e-98842f817a72"
      },
      "execution_count": null,
      "outputs": [
        {
          "output_type": "execute_result",
          "data": {
            "text/plain": [
              "            Text\n",
              "Language        \n",
              "Arabic       509\n",
              "Danish       407\n",
              "Dutch        519\n",
              "English     1316\n",
              "French       963\n",
              "German       446\n",
              "Greek        347\n",
              "Hindi         60\n",
              "Italian      663\n",
              "Kannada      351\n",
              "Malayalam    564\n",
              "Portugeese   702\n",
              "Russian      657\n",
              "Spanish      778\n",
              "Sweedish     642\n",
              "Tamil        446\n",
              "Turkish      450"
            ],
            "text/html": [
              "\n",
              "  <div id=\"df-ab1ab018-ba12-4f22-b12a-8fb21735f5ec\">\n",
              "    <div class=\"colab-df-container\">\n",
              "      <div>\n",
              "<style scoped>\n",
              "    .dataframe tbody tr th:only-of-type {\n",
              "        vertical-align: middle;\n",
              "    }\n",
              "\n",
              "    .dataframe tbody tr th {\n",
              "        vertical-align: top;\n",
              "    }\n",
              "\n",
              "    .dataframe thead th {\n",
              "        text-align: right;\n",
              "    }\n",
              "</style>\n",
              "<table border=\"1\" class=\"dataframe\">\n",
              "  <thead>\n",
              "    <tr style=\"text-align: right;\">\n",
              "      <th></th>\n",
              "      <th>Text</th>\n",
              "    </tr>\n",
              "    <tr>\n",
              "      <th>Language</th>\n",
              "      <th></th>\n",
              "    </tr>\n",
              "  </thead>\n",
              "  <tbody>\n",
              "    <tr>\n",
              "      <th>Arabic</th>\n",
              "      <td>509</td>\n",
              "    </tr>\n",
              "    <tr>\n",
              "      <th>Danish</th>\n",
              "      <td>407</td>\n",
              "    </tr>\n",
              "    <tr>\n",
              "      <th>Dutch</th>\n",
              "      <td>519</td>\n",
              "    </tr>\n",
              "    <tr>\n",
              "      <th>English</th>\n",
              "      <td>1316</td>\n",
              "    </tr>\n",
              "    <tr>\n",
              "      <th>French</th>\n",
              "      <td>963</td>\n",
              "    </tr>\n",
              "    <tr>\n",
              "      <th>German</th>\n",
              "      <td>446</td>\n",
              "    </tr>\n",
              "    <tr>\n",
              "      <th>Greek</th>\n",
              "      <td>347</td>\n",
              "    </tr>\n",
              "    <tr>\n",
              "      <th>Hindi</th>\n",
              "      <td>60</td>\n",
              "    </tr>\n",
              "    <tr>\n",
              "      <th>Italian</th>\n",
              "      <td>663</td>\n",
              "    </tr>\n",
              "    <tr>\n",
              "      <th>Kannada</th>\n",
              "      <td>351</td>\n",
              "    </tr>\n",
              "    <tr>\n",
              "      <th>Malayalam</th>\n",
              "      <td>564</td>\n",
              "    </tr>\n",
              "    <tr>\n",
              "      <th>Portugeese</th>\n",
              "      <td>702</td>\n",
              "    </tr>\n",
              "    <tr>\n",
              "      <th>Russian</th>\n",
              "      <td>657</td>\n",
              "    </tr>\n",
              "    <tr>\n",
              "      <th>Spanish</th>\n",
              "      <td>778</td>\n",
              "    </tr>\n",
              "    <tr>\n",
              "      <th>Sweedish</th>\n",
              "      <td>642</td>\n",
              "    </tr>\n",
              "    <tr>\n",
              "      <th>Tamil</th>\n",
              "      <td>446</td>\n",
              "    </tr>\n",
              "    <tr>\n",
              "      <th>Turkish</th>\n",
              "      <td>450</td>\n",
              "    </tr>\n",
              "  </tbody>\n",
              "</table>\n",
              "</div>\n",
              "      <button class=\"colab-df-convert\" onclick=\"convertToInteractive('df-ab1ab018-ba12-4f22-b12a-8fb21735f5ec')\"\n",
              "              title=\"Convert this dataframe to an interactive table.\"\n",
              "              style=\"display:none;\">\n",
              "        \n",
              "  <svg xmlns=\"http://www.w3.org/2000/svg\" height=\"24px\"viewBox=\"0 0 24 24\"\n",
              "       width=\"24px\">\n",
              "    <path d=\"M0 0h24v24H0V0z\" fill=\"none\"/>\n",
              "    <path d=\"M18.56 5.44l.94 2.06.94-2.06 2.06-.94-2.06-.94-.94-2.06-.94 2.06-2.06.94zm-11 1L8.5 8.5l.94-2.06 2.06-.94-2.06-.94L8.5 2.5l-.94 2.06-2.06.94zm10 10l.94 2.06.94-2.06 2.06-.94-2.06-.94-.94-2.06-.94 2.06-2.06.94z\"/><path d=\"M17.41 7.96l-1.37-1.37c-.4-.4-.92-.59-1.43-.59-.52 0-1.04.2-1.43.59L10.3 9.45l-7.72 7.72c-.78.78-.78 2.05 0 2.83L4 21.41c.39.39.9.59 1.41.59.51 0 1.02-.2 1.41-.59l7.78-7.78 2.81-2.81c.8-.78.8-2.07 0-2.86zM5.41 20L4 18.59l7.72-7.72 1.47 1.35L5.41 20z\"/>\n",
              "  </svg>\n",
              "      </button>\n",
              "      \n",
              "  <style>\n",
              "    .colab-df-container {\n",
              "      display:flex;\n",
              "      flex-wrap:wrap;\n",
              "      gap: 12px;\n",
              "    }\n",
              "\n",
              "    .colab-df-convert {\n",
              "      background-color: #E8F0FE;\n",
              "      border: none;\n",
              "      border-radius: 50%;\n",
              "      cursor: pointer;\n",
              "      display: none;\n",
              "      fill: #1967D2;\n",
              "      height: 32px;\n",
              "      padding: 0 0 0 0;\n",
              "      width: 32px;\n",
              "    }\n",
              "\n",
              "    .colab-df-convert:hover {\n",
              "      background-color: #E2EBFA;\n",
              "      box-shadow: 0px 1px 2px rgba(60, 64, 67, 0.3), 0px 1px 3px 1px rgba(60, 64, 67, 0.15);\n",
              "      fill: #174EA6;\n",
              "    }\n",
              "\n",
              "    [theme=dark] .colab-df-convert {\n",
              "      background-color: #3B4455;\n",
              "      fill: #D2E3FC;\n",
              "    }\n",
              "\n",
              "    [theme=dark] .colab-df-convert:hover {\n",
              "      background-color: #434B5C;\n",
              "      box-shadow: 0px 1px 3px 1px rgba(0, 0, 0, 0.15);\n",
              "      filter: drop-shadow(0px 1px 2px rgba(0, 0, 0, 0.3));\n",
              "      fill: #FFFFFF;\n",
              "    }\n",
              "  </style>\n",
              "\n",
              "      <script>\n",
              "        const buttonEl =\n",
              "          document.querySelector('#df-ab1ab018-ba12-4f22-b12a-8fb21735f5ec button.colab-df-convert');\n",
              "        buttonEl.style.display =\n",
              "          google.colab.kernel.accessAllowed ? 'block' : 'none';\n",
              "\n",
              "        async function convertToInteractive(key) {\n",
              "          const element = document.querySelector('#df-ab1ab018-ba12-4f22-b12a-8fb21735f5ec');\n",
              "          const dataTable =\n",
              "            await google.colab.kernel.invokeFunction('convertToInteractive',\n",
              "                                                     [key], {});\n",
              "          if (!dataTable) return;\n",
              "\n",
              "          const docLinkHtml = 'Like what you see? Visit the ' +\n",
              "            '<a target=\"_blank\" href=https://colab.research.google.com/notebooks/data_table.ipynb>data table notebook</a>'\n",
              "            + ' to learn more about interactive tables.';\n",
              "          element.innerHTML = '';\n",
              "          dataTable['output_type'] = 'display_data';\n",
              "          await google.colab.output.renderOutput(dataTable, element);\n",
              "          const docLink = document.createElement('div');\n",
              "          docLink.innerHTML = docLinkHtml;\n",
              "          element.appendChild(docLink);\n",
              "        }\n",
              "      </script>\n",
              "    </div>\n",
              "  </div>\n",
              "  "
            ]
          },
          "metadata": {},
          "execution_count": 8
        }
      ]
    },
    {
      "cell_type": "markdown",
      "source": [
        "# Build Model"
      ],
      "metadata": {
        "id": "AO8PA81xc4mo"
      }
    },
    {
      "cell_type": "code",
      "source": [
        "import tensorflow as tf\n",
        "import numpy as np\n",
        "from sklearn.model_selection import train_test_split\n",
        "from tensorflow.keras.models import Sequential\n",
        "from tensorflow.keras.layers import Embedding, LSTM, Dense\n",
        "import pickle"
      ],
      "metadata": {
        "id": "Q15OJH3GOQ76"
      },
      "execution_count": null,
      "outputs": []
    },
    {
      "cell_type": "code",
      "source": [
        "# Prepare the data\n",
        "sentences = data['Text'].to_list()  # List of sentences\n",
        "languages = data['Language'].to_list()  # List of corresponding languages\n",
        "\n",
        "# Tokenize the sentences\n",
        "tokenizer = tf.keras.preprocessing.text.Tokenizer()\n",
        "tokenizer.fit_on_texts(sentences)\n",
        "sequences = tokenizer.texts_to_sequences(sentences)\n"
      ],
      "metadata": {
        "id": "oXBp5_uSOY9e"
      },
      "execution_count": null,
      "outputs": []
    },
    {
      "cell_type": "code",
      "source": [
        "# Saving tokenizer\n",
        "with open('tokenizer.pickle', 'wb') as handle:\n",
        "    pickle.dump(tokenizer, handle, protocol=pickle.HIGHEST_PROTOCOL)"
      ],
      "metadata": {
        "id": "1nFvlCNhOp3j"
      },
      "execution_count": null,
      "outputs": []
    },
    {
      "cell_type": "code",
      "execution_count": null,
      "metadata": {
        "colab": {
          "background_save": true,
          "base_uri": "https://localhost:8080/"
        },
        "id": "oo3x8-w1Wqvv",
        "outputId": "33b29061-9832-4838-a80d-f5ab197e4bae"
      },
      "outputs": [
        {
          "name": "stdout",
          "output_type": "stream",
          "text": [
            "Epoch 1/5\n",
            "123/123 [==============================] - 3927s 32s/step - loss: 2.3419 - accuracy: 0.2762 - val_loss: 1.6382 - val_accuracy: 0.4700\n",
            "Epoch 2/5\n",
            "123/123 [==============================] - 3958s 32s/step - loss: 1.0617 - accuracy: 0.7025 - val_loss: 0.6527 - val_accuracy: 0.8666\n",
            "Epoch 3/5\n",
            "123/123 [==============================] - 3977s 32s/step - loss: 0.9890 - accuracy: 0.8038 - val_loss: 6.1627 - val_accuracy: 0.2546\n",
            "Epoch 4/5\n",
            "123/123 [==============================] - 3951s 32s/step - loss: 2.6919 - accuracy: 0.4374 - val_loss: 2.2210 - val_accuracy: 0.4333\n",
            "Epoch 5/5\n",
            "123/123 [==============================] - 3873s 32s/step - loss: 1.1598 - accuracy: 0.6963 - val_loss: 1.3832 - val_accuracy: 0.5845\n"
          ]
        }
      ],
      "source": [
        "\n",
        "\n",
        "# Prepare the data\n",
        "sentences = data['Text'].to_list()  # List of sentences\n",
        "languages = data['Language'].to_list()  # List of corresponding languages\n",
        "\n",
        "# Tokenize the sentences\n",
        "tokenizer = tf.keras.preprocessing.text.Tokenizer()\n",
        "tokenizer.fit_on_texts(sentences)\n",
        "sequences = tokenizer.texts_to_sequences(sentences)\n",
        "\n",
        "# Pad the sequences\n",
        "sequences = tf.keras.preprocessing.sequence.pad_sequences(sequences)\n",
        "\n",
        "# Convert language labels to one-hot vectors\n",
        "labels = np.zeros((len(languages), len(set(languages))))\n",
        "for i, lang in enumerate(languages):\n",
        "    label_index = {\n",
        "        'Greek': 0,\n",
        "        'Italian': 1,\n",
        "        'Turkish': 2,\n",
        "        'Sweedish': 3,\n",
        "        'Arabic': 4,\n",
        "        'Portugeese': 5,\n",
        "        'English': 6,\n",
        "        'Tamil': 7,\n",
        "        'German': 8,\n",
        "        'Malayalam': 9,\n",
        "        'Russian': 10,\n",
        "        'Dutch': 11,\n",
        "        'French': 12,\n",
        "        'Kannada': 13,\n",
        "        'Danish': 14,\n",
        "        'Hindi': 15,\n",
        "        'Spanish': 16\n",
        "      }  \n",
        "\n",
        "    # Update with your language labels\n",
        "    labels[i, label_index[lang]] = 1\n",
        "\n",
        "# Split the data into training and testing sets\n",
        "X_train, X_test, y_train, y_test = train_test_split(sequences, labels, test_size=0.2, random_state=42)\n",
        "\n",
        "# Define the model architecture\n",
        "model = Sequential()\n",
        "model.add(Embedding(len(tokenizer.word_index) + 1, 256))\n",
        "model.add(LSTM(256))\n",
        "model.add(Dense(len(set(languages)), activation='softmax'))\n",
        "\n",
        "# Compile and train the model\n",
        "model.compile(optimizer='rmsprop', loss='categorical_crossentropy', metrics=['accuracy'])\n",
        "model.fit(X_train, y_train, batch_size=64, epochs=5, validation_data=(X_test, y_test))\n",
        "\n",
        "# Save the model\n",
        "model.save('language_classification_model.h5')\n"
      ]
    },
    {
      "cell_type": "code",
      "execution_count": null,
      "metadata": {
        "colab": {
          "background_save": true
        },
        "id": "QJTogiP540La"
      },
      "outputs": [],
      "source": [
        "model.save('language_classification_model.h5')\n"
      ]
    },
    {
      "cell_type": "markdown",
      "source": [
        "# Make predictions "
      ],
      "metadata": {
        "id": "nzUy8ATac9bf"
      }
    },
    {
      "cell_type": "code",
      "execution_count": null,
      "metadata": {
        "id": "Rk1YhEyPTnHx",
        "colab": {
          "base_uri": "https://localhost:8080/"
        },
        "outputId": "cb2441f4-294b-413b-da32-49149b14a82e"
      },
      "outputs": [
        {
          "output_type": "stream",
          "name": "stdout",
          "text": [
            "1/1 [==============================] - 0s 291ms/step\n",
            "Sentence: اليوم مشرق\n",
            "Predicted Language: Arabic\n"
          ]
        }
      ],
      "source": [
        "# Load the model\n",
        "model = tf.keras.models.load_model('/drive/My Drive/Job Tasks/kemet/language_classification_model.h5')\n",
        "with open('/drive/My Drive/Job Tasks/kemet/tokenizer.pickle', 'rb') as handle:\n",
        "    tokenizer = pickle.load(handle)\n",
        "# Classify a sentence\n",
        "def classify(sentence):\n",
        "    # Preprocess the input sentence\n",
        "    sequence = tokenizer.texts_to_sequences([sentence])\n",
        "    sequence = tf.keras.preprocessing.sequence.pad_sequences(sequence)\n",
        "\n",
        "    # Perform the classification\n",
        "    prediction = model.predict(sequence)\n",
        "    label_index = {\n",
        "              0: 'Greek',\n",
        "              1: 'Italian',\n",
        "              2: 'Turkish',\n",
        "              3: 'Swedish',\n",
        "              4: 'Arabic',\n",
        "              5: 'Portuguese',\n",
        "              6: 'English',\n",
        "              7: 'Tamil',\n",
        "              8: 'German',\n",
        "              9: 'Malayalam',\n",
        "              10: 'Russian',\n",
        "              11: 'Dutch',\n",
        "              12: 'French',\n",
        "              13: 'Kannada',\n",
        "              14: 'Danish',\n",
        "              15: 'Hindi',\n",
        "              16: 'Spanish'\n",
        "              }\n",
        "        \n",
        "    # Update with your language labels\n",
        "    predicted_label = label_index[np.argmax(prediction)]\n",
        "\n",
        "    return predicted_label\n",
        "\n",
        "# Example usage:\n",
        "sentence = \"اليوم مشرق\"\n",
        "predicted_language = classify(sentence)\n",
        "print(\"Sentence:\", sentence)\n",
        "print(\"Predicted Language:\", predicted_language)"
      ]
    },
    {
      "cell_type": "markdown",
      "source": [
        "# Model Evaluation\n",
        "\n",
        "I used accuracy as kind of habit but since the data is inbalanced we can use wieghted accuracy which take in count the imbalance in the data to tell more accurate result about the behaviour of the model \n",
        "refer [here](https://medium.com/cuenex/advanced-evaluation-metrics-for-imbalanced-classification-models-ee6f248c90ca#:~:text=The%20first%20important%20metric%20for,class%20weights%20receive%20higher%20weightage.) and [here](https://www.tensorflow.org/tutorials/structured_data/imbalanced_data).\n"
      ],
      "metadata": {
        "id": "6benK2yKafDs"
      }
    },
    {
      "cell_type": "code",
      "source": [
        "model.evaluate(X_test, y_test)"
      ],
      "metadata": {
        "colab": {
          "base_uri": "https://localhost:8080/"
        },
        "id": "UrqbvkQEWESi",
        "outputId": "8b2cc27b-09ae-4c12-cde8-1ce42cbf52cf"
      },
      "execution_count": null,
      "outputs": [
        {
          "output_type": "stream",
          "name": "stdout",
          "text": [
            "62/62 [==============================] - 332s 5s/step - loss: 1.3832 - accuracy: 0.5845\n"
          ]
        },
        {
          "output_type": "execute_result",
          "data": {
            "text/plain": [
              "[1.3832392692565918, 0.5845214128494263]"
            ]
          },
          "metadata": {},
          "execution_count": 9
        }
      ]
    },
    {
      "cell_type": "code",
      "source": [],
      "metadata": {
        "id": "ie-vxfmnYK8P"
      },
      "execution_count": null,
      "outputs": []
    }
  ],
  "metadata": {
    "colab": {
      "provenance": []
    },
    "kernelspec": {
      "display_name": "Python 3",
      "name": "python3"
    },
    "language_info": {
      "name": "python"
    }
  },
  "nbformat": 4,
  "nbformat_minor": 0
}